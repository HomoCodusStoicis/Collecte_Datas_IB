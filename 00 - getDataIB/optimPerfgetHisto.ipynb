{
 "cells": [
  {
   "cell_type": "code",
   "execution_count": 38,
   "metadata": {},
   "outputs": [
    {
     "name": "stdout",
     "output_type": "stream",
     "text": [
      "---- listOfTicks_a ----\n",
      "Time: 1, Price: 10.000000, Size: 1\n",
      "Time: 2, Price: 20.000000, Size: 2\n",
      "Time: 3, Price: 30.000000, Size: 3\n",
      "Time: 4, Price: 40.000000, Size: 4\n",
      "Time: 5, Price: 50.000000, Size: 0\n",
      "Time: 6, Price: 60.000000, Size: 1\n",
      "Time: 7, Price: 70.000000, Size: 2\n",
      "Time: 8, Price: 80.000000, Size: 3\n",
      "Time: 9, Price: 90.000000, Size: 4\n",
      "---- listOfTicks_b ----\n",
      "Time: 11, Price: 10.000000, Size: 1\n",
      "Time: 12, Price: 20.000000, Size: 2\n",
      "Time: 13, Price: 30.000000, Size: 3\n",
      "Time: 14, Price: 40.000000, Size: 4\n",
      "Time: 15, Price: 50.000000, Size: 0\n",
      "Time: 16, Price: 60.000000, Size: 1\n",
      "Time: 17, Price: 70.000000, Size: 2\n",
      "Time: 18, Price: 80.000000, Size: 3\n",
      "Time: 19, Price: 90.000000, Size: 4\n",
      "---- listOfTicks_ab ----\n",
      "Time: 1, Price: 10.000000, Size: 1\n",
      "Time: 2, Price: 20.000000, Size: 2\n",
      "Time: 3, Price: 30.000000, Size: 3\n",
      "Time: 4, Price: 40.000000, Size: 4\n",
      "Time: 5, Price: 50.000000, Size: 0\n",
      "Time: 6, Price: 60.000000, Size: 1\n",
      "Time: 7, Price: 70.000000, Size: 2\n",
      "Time: 8, Price: 80.000000, Size: 3\n",
      "Time: 9, Price: 90.000000, Size: 4\n",
      "Time: 11, Price: 10.000000, Size: 1\n",
      "Time: 12, Price: 20.000000, Size: 2\n",
      "Time: 13, Price: 30.000000, Size: 3\n",
      "Time: 14, Price: 40.000000, Size: 4\n",
      "Time: 15, Price: 50.000000, Size: 0\n",
      "Time: 16, Price: 60.000000, Size: 1\n",
      "Time: 17, Price: 70.000000, Size: 2\n",
      "Time: 18, Price: 80.000000, Size: 3\n",
      "Time: 19, Price: 90.000000, Size: 4\n"
     ]
    }
   ],
   "source": [
    "import pandas as pd\n",
    "import numpy as np\n",
    "\n",
    "class Tick(object):\n",
    "    def __init__(self,a,b,c):\n",
    "        self.time  = a\n",
    "        self.price = b\n",
    "        self.size  = c\n",
    "    def __str__(self):\n",
    "        return \"Time: %d, Price: %f, Size: %d\" % (self.time, self.price, self.size)\n",
    "    \n",
    "listOfTicks_a = []\n",
    "listOfTicks_b = []\n",
    "for i in range(1,10):\n",
    "    a=Tick(i,10*i,i%5)\n",
    "    listOfTicks_a.append(a)\n",
    "\n",
    "for i in range(1,10):\n",
    "    b=Tick(10+i,10*i,i%5)\n",
    "    listOfTicks_b.append(b)\n",
    "    \n",
    "\n",
    "print(\"---- listOfTicks_a ----\")\n",
    "for tick in listOfTicks_a:\n",
    "    print(tick)\n",
    "    \n",
    "print(\"---- listOfTicks_b ----\")\n",
    "for tick in listOfTicks_b:\n",
    "    print(tick)   \n",
    "    \n",
    "listOfTicks_ab = listOfTicks_a + listOfTicks_b\n",
    "print(\"---- listOfTicks_ab ----\")\n",
    "for tick in listOfTicks_ab:\n",
    "    print(tick)\n",
    "\n",
    "\n",
    "\n",
    "\n",
    "#df = pd.DataFrame(listOfTicks, columns = ['Time','Price','Size'])\n",
    "\n"
   ]
  }
 ],
 "metadata": {
  "kernelspec": {
   "display_name": "Python 3.10.8 64-bit",
   "language": "python",
   "name": "python3"
  },
  "language_info": {
   "codemirror_mode": {
    "name": "ipython",
    "version": 3
   },
   "file_extension": ".py",
   "mimetype": "text/x-python",
   "name": "python",
   "nbconvert_exporter": "python",
   "pygments_lexer": "ipython3",
   "version": "3.10.8"
  },
  "orig_nbformat": 4,
  "vscode": {
   "interpreter": {
    "hash": "7ac87557eea5b83ddc7e313fd319c5b9b759f8f0c169579a7fa3f31fbcf0b31d"
   }
  }
 },
 "nbformat": 4,
 "nbformat_minor": 2
}
